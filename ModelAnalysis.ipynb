{
 "cells": [
  {
   "cell_type": "markdown",
   "id": "688fc2a3",
   "metadata": {},
   "source": [
    "## ASSESSMENT\n",
    "1. Build a prediction model that predicts the average WOZ value\n",
    "2. Build a REST web service that includes all features and returns a prediction of the WOZ. See\n",
    "the examples of how the request and response should look:\n",
    "Request\n",
    "GET\n",
    "/api/get_woz_value?parameter1=value&parameter2=value&....&parameterN=value\n",
    "Response\n",
    "{\n",
    "“woz_value” : 500000\n",
    "}\n",
    "3. Package your model REST web service into a ready to be deployed solution. Finally, the\n",
    "code should follow clean coding best practices. The solution should come bundled with all\n",
    "necessary dependencies so that nothing besides a computer and an internet connection are\n",
    "needed to run the application and reproduce the results.\n",
    "4. The Municipality would like to make this service available for other governments as well as\n",
    "real estate agencies so that it can be used as a basis indicator for house valuation. How\n",
    "would you approach deploying this web service to a cloud environment of your choice\n",
    "(AWS, GCP or Azure), taking into account the following requirements:\n",
    "-   The web service should have high availability and scalability to\n",
    "accommodate peaks in usage. Only authenticated clients should have access\n",
    "to the service.\n",
    "-   Historical & new data of daily frequency, reside/arrive as CSV files at the\n",
    "object storage of the cloud environment of your choice (AWS S3/ GCP Cloud\n",
    "Storage/ Azure Blob Storage). An ETL mechanism is necessary to transform\n",
    "the raw form of new batches to be used for the model.\n",
    "-   Cost should be kept as low as possible without impact on the requirements.\n",
    "\n",
    "#### Note:\n",
    "We expect you to visualize and explain your architecture, not actually implement it.\n",
    "#### Guidelines\n",
    "- You are allowed to use any technology you are comfortable in\n",
    "- Your code/solution should be easily runnable by other machine learning engineers.\n",
    "- Include visualizations/statistics that you found during the development of your\n",
    "model\n",
    "- Make sure the model is useful for the end user (Municipality in this case)\n",
    "- Reason about the quality of your predictions\n",
    "- Include a visual of your high level architecture of the cloud deployed web service to\n",
    "make it easier to understand your approach and prepare for a discussion on your\n",
    "design choices.\n",
    "GOOD LUCK"
   ]
  },
  {
   "cell_type": "markdown",
   "id": "7b1118a2",
   "metadata": {},
   "source": [
    "#### SOLUTION"
   ]
  },
  {
   "cell_type": "markdown",
   "id": "45179cf3",
   "metadata": {
    "scrolled": true
   },
   "source": [
    "'''\n",
    "This purpose of this notebook is to experiment with different regressor models and general data exploration.\n",
    "'''"
   ]
  },
  {
   "cell_type": "code",
   "execution_count": 43,
   "id": "a2c8522c",
   "metadata": {},
   "outputs": [],
   "source": [
    "import pandas as pd\n",
    "import numpy as np\n",
    "from sklearn.decomposition import PCA\n",
    "from sklearn.ensemble import RandomForestRegressor\n",
    "from sklearn.metrics import mean_squared_error, r2_score\n",
    "from sklearn.model_selection import GridSearchCV, train_test_split\n",
    "from sklearn.preprocessing import StandardScaler\n",
    "from joblib import dump\n"
   ]
  },
  {
   "cell_type": "code",
   "execution_count": 83,
   "id": "30728e44",
   "metadata": {},
   "outputs": [],
   "source": [
    "# Read the data\n",
    "header_columns=[\"area\",\"single\",\"married, no kids\",\"not married, no kids\",\"married, with kids\",\"not married, with kids\",\"single parent\",\"other\",\"total\"]\n",
    "df = pd.read_excel('data/2021_family_composition_amsterdam.xlsx', engine='openpyxl', skiprows=2, usecols=\"A:I\")\n",
    "prices = pd.read_excel('data/woz_prices_2021_amsterdam.xlsx', engine='openpyxl', skiprows=2, usecols=\"A:B\")"
   ]
  },
  {
   "cell_type": "code",
   "execution_count": 84,
   "id": "e9cc23f5",
   "metadata": {},
   "outputs": [],
   "source": [
    "# Remove rows with all null values and drop redundant columns\n",
    "prices.dropna(how=\"all\", inplace=True)\n",
    "df.dropna(how=\"all\", inplace=True)\n",
    "df = df.loc[df[\"area\"] != \"ASD Amsterdam\"]\n",
    "prices = prices.loc[prices[\"area\"] != \"ASD Amsterdam\"]\n",
    "df.drop('total', axis=1, inplace=True)"
   ]
  },
  {
   "cell_type": "code",
   "execution_count": 89,
   "id": "1e3a920c",
   "metadata": {},
   "outputs": [],
   "source": [
    "# Merge the dataframes on the 'area' column\n",
    "df = df.merge(prices, on='area', how='inner')\n",
    "col = ['single', 'married, no kids', 'not married, no kids', 'married, with kids', 'not married, with kids', 'single parent', 'other', 'average woz value']\n",
    "df[col] = df[col].apply(pd.to_numeric, errors='coerce')\n"
   ]
  },
  {
   "cell_type": "code",
   "execution_count": 90,
   "id": "5dad29f9",
   "metadata": {},
   "outputs": [
    {
     "data": {
      "text/plain": [
       "area                      0.000000\n",
       "single                    1.196172\n",
       "married, no kids          4.066986\n",
       "not married, no kids      3.349282\n",
       "married, with kids        5.263158\n",
       "not married, with kids    5.980861\n",
       "single parent             5.023923\n",
       "other                     9.569378\n",
       "average woz value         7.655502\n",
       "dtype: float64"
      ]
     },
     "execution_count": 90,
     "metadata": {},
     "output_type": "execute_result"
    }
   ],
   "source": [
    "# Print column having more than 50% missing values \n",
    "missing = 100 * (df.isnull().sum()/df.shape[0])\n",
    "missing"
   ]
  },
  {
   "cell_type": "code",
   "execution_count": 91,
   "id": "9cfe35d8",
   "metadata": {},
   "outputs": [],
   "source": [
    "#Since the number of null values are below 10%, lets impute it with mean\n",
    "df.fillna(round(df.mean(),0), inplace=True)"
   ]
  },
  {
   "cell_type": "code",
   "execution_count": 92,
   "id": "e832239c",
   "metadata": {
    "scrolled": false
   },
   "outputs": [
    {
     "name": "stdout",
     "output_type": "stream",
     "text": [
      "<class 'pandas.core.frame.DataFrame'>\n",
      "Int64Index: 418 entries, 0 to 417\n",
      "Data columns (total 9 columns):\n",
      " #   Column                  Non-Null Count  Dtype  \n",
      "---  ------                  --------------  -----  \n",
      " 0   area                    418 non-null    object \n",
      " 1   single                  418 non-null    float64\n",
      " 2   married, no kids        418 non-null    float64\n",
      " 3   not married, no kids    418 non-null    float64\n",
      " 4   married, with kids      418 non-null    float64\n",
      " 5   not married, with kids  418 non-null    float64\n",
      " 6   single parent           418 non-null    float64\n",
      " 7   other                   418 non-null    float64\n",
      " 8   average woz value       418 non-null    float64\n",
      "dtypes: float64(8), object(1)\n",
      "memory usage: 32.7+ KB\n"
     ]
    }
   ],
   "source": [
    "df.info()"
   ]
  },
  {
   "cell_type": "code",
   "execution_count": 93,
   "id": "d045475d",
   "metadata": {},
   "outputs": [
    {
     "data": {
      "text/html": [
       "<div>\n",
       "<style scoped>\n",
       "    .dataframe tbody tr th:only-of-type {\n",
       "        vertical-align: middle;\n",
       "    }\n",
       "\n",
       "    .dataframe tbody tr th {\n",
       "        vertical-align: top;\n",
       "    }\n",
       "\n",
       "    .dataframe thead th {\n",
       "        text-align: right;\n",
       "    }\n",
       "</style>\n",
       "<table border=\"1\" class=\"dataframe\">\n",
       "  <thead>\n",
       "    <tr style=\"text-align: right;\">\n",
       "      <th></th>\n",
       "      <th>area</th>\n",
       "      <th>single</th>\n",
       "      <th>married, no kids</th>\n",
       "      <th>not married, no kids</th>\n",
       "      <th>married, with kids</th>\n",
       "      <th>not married, with kids</th>\n",
       "      <th>single parent</th>\n",
       "      <th>other</th>\n",
       "      <th>average woz value</th>\n",
       "    </tr>\n",
       "  </thead>\n",
       "  <tbody>\n",
       "    <tr>\n",
       "      <th>0</th>\n",
       "      <td>A00a Kop Zeedijk</td>\n",
       "      <td>543.0</td>\n",
       "      <td>37.0</td>\n",
       "      <td>149.0</td>\n",
       "      <td>14.0</td>\n",
       "      <td>12.0</td>\n",
       "      <td>22.0</td>\n",
       "      <td>12.0</td>\n",
       "      <td>432583.0</td>\n",
       "    </tr>\n",
       "    <tr>\n",
       "      <th>1</th>\n",
       "      <td>A00b Oude Kerk e.o.</td>\n",
       "      <td>331.0</td>\n",
       "      <td>20.0</td>\n",
       "      <td>104.0</td>\n",
       "      <td>8.0</td>\n",
       "      <td>3.0</td>\n",
       "      <td>20.0</td>\n",
       "      <td>12.0</td>\n",
       "      <td>475037.0</td>\n",
       "    </tr>\n",
       "    <tr>\n",
       "      <th>2</th>\n",
       "      <td>A00c Burgwallen Oost</td>\n",
       "      <td>676.0</td>\n",
       "      <td>55.0</td>\n",
       "      <td>231.0</td>\n",
       "      <td>30.0</td>\n",
       "      <td>23.0</td>\n",
       "      <td>43.0</td>\n",
       "      <td>26.0</td>\n",
       "      <td>469793.0</td>\n",
       "    </tr>\n",
       "    <tr>\n",
       "      <th>3</th>\n",
       "      <td>A00d Nes e.o.</td>\n",
       "      <td>130.0</td>\n",
       "      <td>16.0</td>\n",
       "      <td>59.0</td>\n",
       "      <td>5.0</td>\n",
       "      <td>8.0</td>\n",
       "      <td>11.0</td>\n",
       "      <td>5.0</td>\n",
       "      <td>605863.0</td>\n",
       "    </tr>\n",
       "    <tr>\n",
       "      <th>4</th>\n",
       "      <td>A00e BG-terrein e.o.</td>\n",
       "      <td>348.0</td>\n",
       "      <td>24.0</td>\n",
       "      <td>73.0</td>\n",
       "      <td>19.0</td>\n",
       "      <td>9.0</td>\n",
       "      <td>14.0</td>\n",
       "      <td>6.0</td>\n",
       "      <td>556369.0</td>\n",
       "    </tr>\n",
       "    <tr>\n",
       "      <th>...</th>\n",
       "      <td>...</td>\n",
       "      <td>...</td>\n",
       "      <td>...</td>\n",
       "      <td>...</td>\n",
       "      <td>...</td>\n",
       "      <td>...</td>\n",
       "      <td>...</td>\n",
       "      <td>...</td>\n",
       "      <td>...</td>\n",
       "    </tr>\n",
       "    <tr>\n",
       "      <th>413</th>\n",
       "      <td>T97a Gein Noordwest</td>\n",
       "      <td>977.0</td>\n",
       "      <td>71.0</td>\n",
       "      <td>142.0</td>\n",
       "      <td>88.0</td>\n",
       "      <td>63.0</td>\n",
       "      <td>300.0</td>\n",
       "      <td>22.0</td>\n",
       "      <td>211475.0</td>\n",
       "    </tr>\n",
       "    <tr>\n",
       "      <th>414</th>\n",
       "      <td>T97b Gein Zuidwest</td>\n",
       "      <td>421.0</td>\n",
       "      <td>41.0</td>\n",
       "      <td>70.0</td>\n",
       "      <td>72.0</td>\n",
       "      <td>51.0</td>\n",
       "      <td>186.0</td>\n",
       "      <td>10.0</td>\n",
       "      <td>221090.0</td>\n",
       "    </tr>\n",
       "    <tr>\n",
       "      <th>415</th>\n",
       "      <td>T97c Gein Noordoost</td>\n",
       "      <td>380.0</td>\n",
       "      <td>362.0</td>\n",
       "      <td>91.0</td>\n",
       "      <td>325.0</td>\n",
       "      <td>107.0</td>\n",
       "      <td>125.0</td>\n",
       "      <td>14.0</td>\n",
       "      <td>332620.0</td>\n",
       "    </tr>\n",
       "    <tr>\n",
       "      <th>416</th>\n",
       "      <td>T97d Gein Zuidoost</td>\n",
       "      <td>718.0</td>\n",
       "      <td>242.0</td>\n",
       "      <td>97.0</td>\n",
       "      <td>220.0</td>\n",
       "      <td>104.0</td>\n",
       "      <td>274.0</td>\n",
       "      <td>17.0</td>\n",
       "      <td>280695.0</td>\n",
       "    </tr>\n",
       "    <tr>\n",
       "      <th>417</th>\n",
       "      <td>T98a Dorp Driemond</td>\n",
       "      <td>193.0</td>\n",
       "      <td>144.0</td>\n",
       "      <td>42.0</td>\n",
       "      <td>139.0</td>\n",
       "      <td>60.0</td>\n",
       "      <td>68.0</td>\n",
       "      <td>14.0</td>\n",
       "      <td>351711.0</td>\n",
       "    </tr>\n",
       "  </tbody>\n",
       "</table>\n",
       "<p>418 rows × 9 columns</p>\n",
       "</div>"
      ],
      "text/plain": [
       "                     area  single  married, no kids  not married, no kids  \\\n",
       "0        A00a Kop Zeedijk   543.0              37.0                 149.0   \n",
       "1     A00b Oude Kerk e.o.   331.0              20.0                 104.0   \n",
       "2    A00c Burgwallen Oost   676.0              55.0                 231.0   \n",
       "3           A00d Nes e.o.   130.0              16.0                  59.0   \n",
       "4    A00e BG-terrein e.o.   348.0              24.0                  73.0   \n",
       "..                    ...     ...               ...                   ...   \n",
       "413   T97a Gein Noordwest   977.0              71.0                 142.0   \n",
       "414    T97b Gein Zuidwest   421.0              41.0                  70.0   \n",
       "415   T97c Gein Noordoost   380.0             362.0                  91.0   \n",
       "416    T97d Gein Zuidoost   718.0             242.0                  97.0   \n",
       "417    T98a Dorp Driemond   193.0             144.0                  42.0   \n",
       "\n",
       "     married, with kids  not married, with kids  single parent  other  \\\n",
       "0                  14.0                    12.0           22.0   12.0   \n",
       "1                   8.0                     3.0           20.0   12.0   \n",
       "2                  30.0                    23.0           43.0   26.0   \n",
       "3                   5.0                     8.0           11.0    5.0   \n",
       "4                  19.0                     9.0           14.0    6.0   \n",
       "..                  ...                     ...            ...    ...   \n",
       "413                88.0                    63.0          300.0   22.0   \n",
       "414                72.0                    51.0          186.0   10.0   \n",
       "415               325.0                   107.0          125.0   14.0   \n",
       "416               220.0                   104.0          274.0   17.0   \n",
       "417               139.0                    60.0           68.0   14.0   \n",
       "\n",
       "     average woz value  \n",
       "0             432583.0  \n",
       "1             475037.0  \n",
       "2             469793.0  \n",
       "3             605863.0  \n",
       "4             556369.0  \n",
       "..                 ...  \n",
       "413           211475.0  \n",
       "414           221090.0  \n",
       "415           332620.0  \n",
       "416           280695.0  \n",
       "417           351711.0  \n",
       "\n",
       "[418 rows x 9 columns]"
      ]
     },
     "execution_count": 93,
     "metadata": {},
     "output_type": "execute_result"
    }
   ],
   "source": [
    "df"
   ]
  },
  {
   "cell_type": "code",
   "execution_count": null,
   "id": "4db456c4",
   "metadata": {},
   "outputs": [],
   "source": []
  },
  {
   "cell_type": "markdown",
   "id": "70822c5e",
   "metadata": {},
   "source": [
    "### Building a Regressor "
   ]
  },
  {
   "cell_type": "code",
   "execution_count": 48,
   "id": "d270975a",
   "metadata": {},
   "outputs": [],
   "source": [
    "# Split the dataframe into train and test sets\n",
    "from sklearn.model_selection import train_test_split\n",
    "\n",
    "X = df[df.drop(['area','average woz value'],axis=1).columns]\n",
    "y = df['average woz value']\n",
    "# Split into training and test sets\n",
    "X_train, X_test, y_train, y_test = train_test_split(X, y, test_size=0.2)"
   ]
  },
  {
   "cell_type": "code",
   "execution_count": 49,
   "id": "1f3d0d40",
   "metadata": {},
   "outputs": [
    {
     "data": {
      "text/plain": [
       "['lib/scaler.joblib']"
      ]
     },
     "execution_count": 49,
     "metadata": {},
     "output_type": "execute_result"
    }
   ],
   "source": [
    "from sklearn.preprocessing import StandardScaler\n",
    "from sklearn.decomposition import PCA\n",
    "import numpy as np\n",
    "# Standardize the training and test sets\n",
    "scaler = StandardScaler()\n",
    "X_train_std = scaler.fit_transform(X_train)\n",
    "X_test_std = scaler.transform(X_test)\n",
    "\n",
    "#Log-transform the target variable as it has high numeric values and slightly skewed  \n",
    "#y_train_log = np.log(y_train)\n",
    "\n",
    "# Save the PCA object\n",
    "dump(scaler, 'lib/scaler.joblib')"
   ]
  },
  {
   "cell_type": "code",
   "execution_count": 75,
   "id": "2ada0f86",
   "metadata": {},
   "outputs": [],
   "source": [
    "import matplotlib.pyplot as plt\n",
    "# Apply PCA to the training set to get best number of components\n",
    "pca = PCA()\n",
    "pca.fit(X_train_std)\n",
    "pca_cumulative_var_ratio = pca.explained_variance_ratio_.cumsum()\n",
    "num_components = sum(pca_cumulative_var_ratio < 0.95) + 1\n",
    "pca = PCA(n_components=num_components)\n"
   ]
  },
  {
   "cell_type": "code",
   "execution_count": 73,
   "id": "abb54cea",
   "metadata": {},
   "outputs": [
    {
     "data": {
      "text/plain": [
       "['lib/pca.joblib']"
      ]
     },
     "execution_count": 73,
     "metadata": {},
     "output_type": "execute_result"
    }
   ],
   "source": [
    "pca.fit(X_train)\n",
    "X_train_pca = pca.transform(X_train)\n",
    "\n",
    "# Transform the test set using the same PCA model\n",
    "X_test_pca = pca.transform(X_test)\n",
    "\n",
    "# Save the PCA object\n",
    "dump(pca, 'lib/pca.joblib')"
   ]
  },
  {
   "cell_type": "code",
   "execution_count": 52,
   "id": "8baec4ee",
   "metadata": {},
   "outputs": [],
   "source": [
    "from sklearn.ensemble import RandomForestRegressor\n",
    "\n",
    "from sklearn.model_selection import GridSearchCV, train_test_split\n",
    "from sklearn.metrics import mean_squared_error"
   ]
  },
  {
   "cell_type": "markdown",
   "id": "af74918e",
   "metadata": {},
   "source": [
    "#### Checking performance on scaled and PCA data "
   ]
  },
  {
   "cell_type": "code",
   "execution_count": 53,
   "id": "62515ee2",
   "metadata": {
    "scrolled": false
   },
   "outputs": [
    {
     "name": "stdout",
     "output_type": "stream",
     "text": [
      "LinearRegression\n",
      "Cross-Validation Scores: [0.24745409 0.10159848 0.20271533 0.16392079 0.23693314]\n",
      "Mean R-squared: 0.1905243683628914\n",
      "Standard Deviation: 0.05321456797002546\n",
      "\n",
      "\n",
      "Ridge\n",
      "Cross-Validation Scores: [0.24745412 0.10159848 0.20271534 0.16392077 0.23693333]\n",
      "Mean R-squared: 0.19052440774366805\n",
      "Standard Deviation: 0.053214610734211465\n",
      "\n",
      "\n",
      "Lasso\n",
      "Cross-Validation Scores: [0.2474541  0.10159848 0.20271533 0.16392079 0.23693315]\n",
      "Mean R-squared: 0.1905243703800976\n",
      "Standard Deviation: 0.05321457138491528\n",
      "\n",
      "\n",
      "RandomForestRegressor\n",
      "Cross-Validation Scores: [0.33177226 0.47804087 0.25015283 0.35595564 0.49186742]\n",
      "Mean R-squared: 0.3815578054056187\n",
      "Standard Deviation: 0.09151888436970558\n",
      "\n",
      "\n",
      "DecisionTreeRegressor\n",
      "Cross-Validation Scores: [-1.01099723  0.24440205 -0.1713168   0.34748215 -0.06259626]\n",
      "Mean R-squared: -0.1306052183903865\n",
      "Standard Deviation: 0.4797021420444285\n",
      "\n",
      "\n",
      "Best performing regressor: RandomForestRegressor\n",
      "Mean R-squared: 0.3815578054056187\n"
     ]
    }
   ],
   "source": [
    "# Initialize variables to store the best regressor and its mean R-squared score\n",
    "best_regressor = None\n",
    "best_score = 0\n",
    "\n",
    "for regressor in regressors:\n",
    "    # Compute the cross-validation score using 5 folds and the R-squared metric\n",
    "    scores = cross_val_score(regressor, X_train_pca, y_train, cv=5, scoring='r2')\n",
    "    \n",
    "    # Compute the mean R-squared score\n",
    "    mean_score = scores.mean()\n",
    "    \n",
    "    # Print the cross-validation scores and their mean and standard deviation)\n",
    "    print(regressor.__class__.__name__)\n",
    "    print(\"Cross-Validation Scores:\", scores)\n",
    "    print(\"Mean R-squared:\", scores.mean())\n",
    "    print(\"Standard Deviation:\", scores.std())\n",
    "    print(\"\\n\")\n",
    "    \n",
    "    # Update the best regressor and its mean R-squared score if the current model performs better\n",
    "    if mean_score > best_score:\n",
    "        best_regressor = regressor\n",
    "        best_score = mean_score\n",
    "        \n",
    "# Print the best performing regressor and its mean R-squared score\n",
    "print(\"Best performing regressor:\", best_regressor.__class__.__name__)\n",
    "print(\"Mean R-squared:\", best_score)"
   ]
  },
  {
   "cell_type": "code",
   "execution_count": 67,
   "id": "4d657218",
   "metadata": {},
   "outputs": [
    {
     "data": {
      "text/plain": [
       "GridSearchCV(cv=5, estimator=RandomForestRegressor(),\n",
       "             param_grid={'max_depth': [None, 5, 10, 20, 50],\n",
       "                         'max_features': ['auto', 'sqrt', 'log2'],\n",
       "                         'min_samples_leaf': [1, 2, 4],\n",
       "                         'min_samples_split': [2, 5, 10],\n",
       "                         'n_estimators': [50, 100, 200, 400]})"
      ]
     },
     "execution_count": 67,
     "metadata": {},
     "output_type": "execute_result"
    }
   ],
   "source": [
    "model = best_regressor\n",
    "param_grid = {\n",
    "    'n_estimators': [50, 100, 200, 400],\n",
    "    'max_depth': [None, 5, 10, 20, 50],\n",
    "    'min_samples_split': [2, 5, 10],\n",
    "    'min_samples_leaf': [1, 2, 4],\n",
    "    'max_features': ['auto', 'sqrt', 'log2']\n",
    "}\n",
    "grid_search = GridSearchCV(estimator=model, param_grid=param_grid, cv=5)\n",
    "grid_search.fit(X_train_pca, y_train)\n"
   ]
  },
  {
   "cell_type": "code",
   "execution_count": 68,
   "id": "fd0ad34c",
   "metadata": {},
   "outputs": [
    {
     "name": "stdout",
     "output_type": "stream",
     "text": [
      "Mean Squared Error: 23041963622.550568\n"
     ]
    },
    {
     "data": {
      "text/plain": [
       "0.4202632034123155"
      ]
     },
     "execution_count": 68,
     "metadata": {},
     "output_type": "execute_result"
    }
   ],
   "source": [
    " \n",
    "y_pred = grid_search.predict(X_test_pca)\n",
    "mse = mean_squared_error(y_test, y_pred)\n",
    "print(\"Mean Squared Error:\", mse)\n",
    "\n",
    "from sklearn.metrics import r2_score\n",
    "r2_score(y_test, y_pred)"
   ]
  },
  {
   "cell_type": "code",
   "execution_count": 69,
   "id": "8f73c162",
   "metadata": {},
   "outputs": [
    {
     "name": "stdout",
     "output_type": "stream",
     "text": [
      "Mean Squared Error: 23041963622.550568\n",
      "Root Mean Squared Error: 151795.79579998442\n",
      "Mean Absolute Error: 97033.52571428573\n",
      "R-squared: 0.4202632034123155\n",
      "Explained Variance Score: 0.4225970825299441\n",
      "Max Error: 763262.37\n"
     ]
    }
   ],
   "source": [
    "\n",
    "\n",
    "# Assume y_true and y_pred are the true and predicted target values, respectively\n",
    "mse = mean_squared_error(y_test, y_pred)\n",
    "rmse = np.sqrt(mse)\n",
    "mae = mean_absolute_error(y_test, y_pred)\n",
    "r2 = r2_score(y_test, y_pred)\n",
    "evs = explained_variance_score(y_test, y_pred)\n",
    "me = max_error(y_test, y_pred)\n",
    "\n",
    "print(\"Mean Squared Error:\", mse)\n",
    "print(\"Root Mean Squared Error:\", rmse)\n",
    "print(\"Mean Absolute Error:\", mae)\n",
    "print(\"R-squared:\", r2)\n",
    "print(\"Explained Variance Score:\", evs)\n",
    "print(\"Max Error:\", me)"
   ]
  },
  {
   "cell_type": "code",
   "execution_count": 71,
   "id": "f8ac8748",
   "metadata": {
    "scrolled": true
   },
   "outputs": [
    {
     "data": {
      "text/plain": [
       "Text(0, 0.5, 'y_pred')"
      ]
     },
     "execution_count": 71,
     "metadata": {},
     "output_type": "execute_result"
    },
    {
     "data": {
      "image/png": "[encoded data removed]",
      "text/plain": [
       "<Figure size 432x288 with 1 Axes>"
      ]
     },
     "metadata": {
      "needs_background": "light"
     },
     "output_type": "display_data"
    }
   ],
   "source": [
    "# Plotting y_test and y_pred to understand the spread\n",
    "\n",
    "fig = plt.figure()\n",
    "plt.scatter(y_test, y_pred)\n",
    "fig.suptitle('y_test vs y_pred', fontsize = 20)              # Plot heading \n",
    "plt.xlabel('y_test', fontsize = 18)                          # X-label\n",
    "plt.ylabel('y_pred', fontsize = 16) "
   ]
  },
  {
   "cell_type": "code",
   "execution_count": 1,
   "id": "8dc95f3a",
   "metadata": {},
   "outputs": [],
   "source": [
    "# Saving the best model \n",
    "#import joblib\n",
    "# Save the best estimator as a pickled file\n",
    "#joblib.dump(grid_search, 'lib/model.pkl')"
   ]
  },
  {
   "cell_type": "code",
   "execution_count": null,
   "id": "2a9dabbd",
   "metadata": {},
   "outputs": [],
   "source": []
  }
 ],
 "metadata": {
  "kernelspec": {
   "display_name": "Python 3",
   "language": "python",
   "name": "python3"
  },
  "language_info": {
   "codemirror_mode": {
    "name": "ipython",
    "version": 3
   },
   "file_extension": ".py",
   "mimetype": "text/x-python",
   "name": "python",
   "nbconvert_exporter": "python",
   "pygments_lexer": "ipython3",
   "version": "3.6.13"
  }
 },
 "nbformat": 4,
 "nbformat_minor": 5
}
